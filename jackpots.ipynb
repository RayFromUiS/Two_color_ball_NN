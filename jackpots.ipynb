{
 "cells": [
  {
   "cell_type": "code",
   "execution_count": 13,
   "metadata": {},
   "outputs": [],
   "source": [
    "import requests as req\n",
    "from bs4 import BeautifulSoup\n",
    "import time\n",
    "from datetime import datetime\n",
    "\n",
    "import pandas as pd\n",
    "import csv"
   ]
  },
  {
   "cell_type": "code",
   "execution_count": 2,
   "metadata": {},
   "outputs": [],
   "source": [
    "def request_url():\n",
    "    ''' get the responses from the concated urls\n",
    "    \n",
    "    returns:\n",
    "        return the responses from the url,list\n",
    "    '''\n",
    "    \n",
    "    ##concate the url to scrape\n",
    "    responses = []\n",
    "    url_port = 'http://kaijiang.500.com/shtml/ssq/'\n",
    "    url_query = '.shtml?0_ala_baidu'\n",
    "    minimum_weeks = 149\n",
    "    from_year = '2005' ## 2 digits year\n",
    "    for year in range(int(from_year),2020):\n",
    "        for period in range(1,minimum_weeks):\n",
    "            year_str = str(year)[-2:]\n",
    "            if period < 10: ## period number <10\n",
    "                period_str = '00'+str(period)\n",
    "            elif period <100: ## period number <100\n",
    "                period_str = '0' + str(period)\n",
    "            else:            ## period number > 100\n",
    "                period_str = str(period)\n",
    "            ##concate the url\n",
    "            url = url_port + year_str + period_str + url_query\n",
    "            ## make the request\n",
    "            time.sleep(5) ## slepp for a while\n",
    "            try:\n",
    "                yield req.get(url) ## make the request and have it back as an obj\n",
    "                \n",
    "            except :\n",
    "                print('something wrong with connection')\n",
    "#         print(f'{year} has been requested')\n",
    "\n",
    "#     return responses"
   ]
  },
  {
   "cell_type": "code",
   "execution_count": 18,
   "metadata": {},
   "outputs": [],
   "source": [
    "def scrapy_data(responses):\n",
    "    '''scrapy data and yield a item\n",
    "    \n",
    "    Args:\n",
    "        request response object\n",
    "    \n",
    "    Return:\n",
    "        A well set of dictionary value container,dictionary\n",
    "        \n",
    "    Raise:\n",
    "    \n",
    "    '''\n",
    "    redbals = [] ## container to save the ball\n",
    "    \n",
    "    for res in responses:\n",
    "        ##decode the byte content in a manner of chinese reconginzable\n",
    "        res_text = res.content.decode('gb18030','ignore')\n",
    "        soup = BeautifulSoup(res_text,'html.parser') ## parse the text to bs object\n",
    "        ## get the red ball and blue ball\n",
    "        balls_red = soup.find_all('li',attrs = {'class': 'ball_red'})\n",
    "        for ball_red in balls_red:\n",
    "            number = ball_red.text\n",
    "            redbals.append(number)\n",
    "        ball_blue = soup.find('li',attrs = {'class':'ball_blue'}).text\n",
    "        ## get the date\n",
    "        date = soup.find('td',attrs ={'class':'td_title01'}) ## father tag\n",
    "        date_text = date.find('span',attrs ={'class':'span_right'}).text ## text\n",
    "        try: ##decoding error might occur\n",
    "            open_date = date_text.split(' ')[0].split('：')[-1].replace('年','/').replace('月','/').replace('日','')\n",
    "            close_dat = date_text.split('：')[-1].replace('年','/').replace('月','/').replace('日','')\n",
    "            ## get money spend or deposited\n",
    "            money = soup.find_all('span',attrs ={'class':'cfont1'})\n",
    "            money_spend = money[0].text.replace('元','').replace(',','') ##spended\n",
    "            money_deposit= money[1].text.replace('元','').replace(',','') ## deposited\n",
    "        except ValueError as e:\n",
    "            print(e)\n",
    "        ## collect the data inside a dictionary\n",
    "        finally:\n",
    "            yield {\n",
    "                'red_balls':redbals,\n",
    "                'blue_balls':ball_blue,\n",
    "                'open_date':open_date,\n",
    "                'money_spend':money_spend,\n",
    "                'money_deposit':money_deposit\n",
    "            }\n",
    "        \n",
    "        "
   ]
  },
  {
   "cell_type": "code",
   "execution_count": 4,
   "metadata": {},
   "outputs": [],
   "source": [
    "# def add_data_tog(data_dicts):\n",
    "#     '''save data to the list\n",
    "#     '''\n",
    "    \n",
    "#     return [data for data in data_dicts]\n"
   ]
  },
  {
   "cell_type": "code",
   "execution_count": 5,
   "metadata": {},
   "outputs": [],
   "source": [
    "def data_cleaner(data_dict):\n",
    "    '''\n",
    "    preprocess the dict in a manner of\n",
    "    to generate a df column as\n",
    "    column names as =['year','month','weekday','day','money_spend','money_deposit']\n",
    "    \n",
    "    Args:\n",
    "        data_dict, dictionary\n",
    "    \n",
    "    Returns:\n",
    "        dataframe, as mentioned column names\n",
    "    \n",
    "    Raise: \n",
    "        KeyError\n",
    "    '''\n",
    "    defined_cols = ['year','month','weekday','day','money_spend','money_deposit','balls']\n",
    "    cleaned_data = pd.DataFrame([data_dict])\n",
    "    ##conver 'open_date' to datatime object\n",
    "    datetime_obj = cleaned_data['open_date'].apply(lambda x:datetime.strptime(x,'%Y/%m/%d'))\n",
    "    ##get the year,month,day,weekday\n",
    "    cleaned_data['year'] = [date.year for date in datetime_obj]\n",
    "    cleaned_data['month'] = [date.month for date in datetime_obj]\n",
    "    cleaned_data['day'] = [date.day for date in datetime_obj]\n",
    "    cleaned_data['weekday'] = [date.weekday() for date in datetime_obj]\n",
    "    ##get the balls\n",
    "    cleaned_data['balls'] = cleaned_data['red_balls']\n",
    "    ## slice the dataframe\n",
    "    cleaned_data = cleaned_data[defined_cols]\n",
    "    \n",
    "    return cleaned_data"
   ]
  },
  {
   "cell_type": "code",
   "execution_count": null,
   "metadata": {},
   "outputs": [],
   "source": [
    "def data_preprocess(jakpot_number):\n",
    "    \n",
    "    '''function to scrape the previous double\n",
    "    color ball and in a featuring cols \n",
    "    and plot the ball number\n",
    "    '''\n",
    "    url = 'http://kaijiang.500.com/shtml/ssq/18148.shtml?0_ala_baidu'\n",
    "    responses = request_url() ##get the url request generator\n",
    "    data_generator = scrapy_data(responses) ## scrapy the data\n",
    "    file_name = 'numbers.csv' ##file name to save data\n",
    "    for data in data_generator:\n",
    "#         print(data)\n",
    "        cleaned_data = data_cleaner(data)\n",
    "      \n",
    "        \n",
    "        with open(file_name, 'w+') as csv_file: #save data to a csv file..\n",
    "            csv_writer = csv.writer(csv_file, delimiter=',')\n",
    "            csv_writer.writerow(cleaned_data)\n",
    "#         jakpot_number.append(cleaned_data)\n",
    "#         break\n",
    "#     jakpot_number = add_data_tog(data_generator) ## save data to jakpot number\n",
    "#     jakpot_ax = plot_jakpot_agg(jakpot_agg) ## shown data with such plot\n",
    "#     jakpot_train,jakpot_valid,jakpot_test = preprocess(jakpot_agg) ## in a manner of preprocess,year,month,week and day\n",
    "#     jakpot_model = model_fit(jakpot_train,jakpot_valid) ## feed data to a neural network model and validated\n",
    "#     jakpot_model_evlued = jakpot_model_eva(jakpot_test) ## test data on the finally model"
   ]
  },
  {
   "cell_type": "code",
   "execution_count": null,
   "metadata": {},
   "outputs": [],
   "source": []
  },
  {
   "cell_type": "code",
   "execution_count": 8,
   "metadata": {},
   "outputs": [],
   "source": [
    "def plot_scatter(mask_data):\n",
    "    '''\n",
    "    plot the data in a scatter way\n",
    "    '''\n",
    "    pass"
   ]
  },
  {
   "cell_type": "code",
   "execution_count": 9,
   "metadata": {},
   "outputs": [],
   "source": [
    "def plot_hist(mask_data):\n",
    "    '''\n",
    "        plot the data in a histgram\n",
    "    '''\n",
    "    pass"
   ]
  },
  {
   "cell_type": "code",
   "execution_count": 10,
   "metadata": {},
   "outputs": [],
   "source": [
    "def plot_pie(mask_data):\n",
    "    '''\n",
    "        plot the data in a pie\n",
    "    '''\n",
    "    pass"
   ]
  },
  {
   "cell_type": "code",
   "execution_count": 11,
   "metadata": {},
   "outputs": [],
   "source": [
    "def plot_balls(ball_dataframe,start_date,end_date):\n",
    "    '''\n",
    "    select start,year,month,day to show inside the plot\n",
    "    such plot can be displayed, pieplot,histogram,scatter plot\n",
    "    and so on\n",
    "    \n",
    "    Args:\n",
    "        couple of tuples for start_date and end_date in a sequence(year,month,day)\n",
    "        \n",
    "    Returns:\n",
    "        matplotlib ax saved inside a dictionary,Axes\n",
    "    \n",
    "    Raise:\n",
    "        ValueError occured while end year is smaller then start year\n",
    "    '''\n",
    "    ax_plot = {} ##plot saving dictionary\n",
    "    ## mask the dataframe according to the date \n",
    "    mask_start = (ball_dataframe['year']>year & ball_dataframe['month']>month & ball_dataframe['day']>day)\n",
    "    mask_end = (ball_dataframe['year']<year & ball_dataframe['month']<month & ball_dataframe['day']<day)\n",
    "    if year > end_year:  ##check data sequence\n",
    "        raise ValueError(f'year{year} must be smaller than end year {end_year}')\n",
    "    else:\n",
    "        mask = mask_start & mask_end ## have the overlapped mask\n",
    "        if mask.any():\n",
    "            mask_data = ball_dataframe[mask] ## get the data\n",
    "            ax_pie = plot_pie(mask_data) ## plot the pie ball\n",
    "            ax_hist = plot_hist(mask_data) ## plot the histgram\n",
    "            ax_scatter = plot_scatter(mask_data) ## plot the scatter \n",
    "            ax_plot['ax_pie'] = ax_pie ##save plot to dict\n",
    "            ax_plot['ax_hist'] = ax_hist ##save plot to dict\n",
    "            ax_plot['ax_scatter'] = ax_scatter ##save plot to dict\n",
    "        else:\n",
    "            print('Sorry,there is no data between your selection year')\n",
    "    \n",
    "    return ax_plot"
   ]
  },
  {
   "cell_type": "code",
   "execution_count": 19,
   "metadata": {},
   "outputs": [],
   "source": [
    "def main():\n",
    "    ##\n",
    "    jakpot_number = []##in such a dict, peirod:{data:'',reward_num:'','deposited_from_last_period'}\n",
    "    data_preprocess(jakpot_number) #precedding the data preprocess\n",
    "    plot_balls(ball_dataframe,star_date,end_date) ## plot data in a manner\n",
    "    "
   ]
  },
  {
   "cell_type": "code",
   "execution_count": null,
   "metadata": {},
   "outputs": [],
   "source": [
    "main()"
   ]
  },
  {
   "cell_type": "code",
   "execution_count": null,
   "metadata": {},
   "outputs": [
    {
     "name": "stdout",
     "output_type": "stream",
     "text": [
      "something wrong with connection\n"
     ]
    },
    {
     "name": "stderr",
     "output_type": "stream",
     "text": [
      "Exception ignored in: <generator object request_url at 0x7ff8ad57ccf0>\n",
      "RuntimeError: generator ignored GeneratorExit\n"
     ]
    },
    {
     "name": "stdout",
     "output_type": "stream",
     "text": [
      "something wrong with connection\n",
      "something wrong with connection\n",
      "something wrong with connection\n",
      "something wrong with connection\n",
      "something wrong with connection\n"
     ]
    }
   ],
   "source": [
    "if __name__ == '__main__':\n",
    "    main()"
   ]
  },
  {
   "cell_type": "code",
   "execution_count": null,
   "metadata": {},
   "outputs": [],
   "source": []
  },
  {
   "cell_type": "code",
   "execution_count": null,
   "metadata": {},
   "outputs": [],
   "source": []
  }
 ],
 "metadata": {
  "kernelspec": {
   "display_name": "Python 3",
   "language": "python",
   "name": "python3"
  },
  "language_info": {
   "codemirror_mode": {
    "name": "ipython",
    "version": 3
   },
   "file_extension": ".py",
   "mimetype": "text/x-python",
   "name": "python",
   "nbconvert_exporter": "python",
   "pygments_lexer": "ipython3",
   "version": "3.7.3"
  }
 },
 "nbformat": 4,
 "nbformat_minor": 2
}
